{
  "nbformat": 4,
  "nbformat_minor": 0,
  "metadata": {
    "colab": {
      "provenance": [],
      "authorship_tag": "ABX9TyO3lbBQs/x1Ys2XYYtZhcus",
      "include_colab_link": true
    },
    "kernelspec": {
      "name": "python3",
      "display_name": "Python 3"
    },
    "language_info": {
      "name": "python"
    }
  },
  "cells": [
    {
      "cell_type": "markdown",
      "metadata": {
        "id": "view-in-github",
        "colab_type": "text"
      },
      "source": [
        "<a href=\"https://colab.research.google.com/github/gr3ybr0w/cookbook/blob/master/plotting/Altair/Pareto_in_altair.ipynb\" target=\"_parent\"><img src=\"https://colab.research.google.com/assets/colab-badge.svg\" alt=\"Open In Colab\"/></a>"
      ]
    },
    {
      "cell_type": "code",
      "source": [
        "import pandas as pd\n",
        "import altair as alt\n",
        "from typing import List, Tuple, Optional"
      ],
      "metadata": {
        "id": "7Qr1_JS-DTEK"
      },
      "execution_count": 1,
      "outputs": []
    },
    {
      "cell_type": "code",
      "execution_count": 3,
      "metadata": {
        "colab": {
          "base_uri": "https://localhost:8080/",
          "height": 555
        },
        "id": "omQ8m-0lDNaC",
        "outputId": "cf90764c-c77f-4ba3-940d-6e98724e4ee5"
      },
      "outputs": [
        {
          "output_type": "stream",
          "name": "stderr",
          "text": [
            "/usr/local/lib/python3.10/dist-packages/altair/utils/core.py:384: FutureWarning: the convert_dtype parameter is deprecated and will be removed in a future version.  Do ``ser.astype(object).apply()`` instead if you want ``convert_dtype=False``.\n",
            "  col = df[col_name].apply(to_list_if_array, convert_dtype=False)\n"
          ]
        },
        {
          "output_type": "execute_result",
          "data": {
            "text/html": [
              "\n",
              "<div id=\"altair-viz-3b250e347b304d7b830196c6c28cfbd2\"></div>\n",
              "<script type=\"text/javascript\">\n",
              "  var VEGA_DEBUG = (typeof VEGA_DEBUG == \"undefined\") ? {} : VEGA_DEBUG;\n",
              "  (function(spec, embedOpt){\n",
              "    let outputDiv = document.currentScript.previousElementSibling;\n",
              "    if (outputDiv.id !== \"altair-viz-3b250e347b304d7b830196c6c28cfbd2\") {\n",
              "      outputDiv = document.getElementById(\"altair-viz-3b250e347b304d7b830196c6c28cfbd2\");\n",
              "    }\n",
              "    const paths = {\n",
              "      \"vega\": \"https://cdn.jsdelivr.net/npm//vega@5?noext\",\n",
              "      \"vega-lib\": \"https://cdn.jsdelivr.net/npm//vega-lib?noext\",\n",
              "      \"vega-lite\": \"https://cdn.jsdelivr.net/npm//vega-lite@4.17.0?noext\",\n",
              "      \"vega-embed\": \"https://cdn.jsdelivr.net/npm//vega-embed@6?noext\",\n",
              "    };\n",
              "\n",
              "    function maybeLoadScript(lib, version) {\n",
              "      var key = `${lib.replace(\"-\", \"\")}_version`;\n",
              "      return (VEGA_DEBUG[key] == version) ?\n",
              "        Promise.resolve(paths[lib]) :\n",
              "        new Promise(function(resolve, reject) {\n",
              "          var s = document.createElement('script');\n",
              "          document.getElementsByTagName(\"head\")[0].appendChild(s);\n",
              "          s.async = true;\n",
              "          s.onload = () => {\n",
              "            VEGA_DEBUG[key] = version;\n",
              "            return resolve(paths[lib]);\n",
              "          };\n",
              "          s.onerror = () => reject(`Error loading script: ${paths[lib]}`);\n",
              "          s.src = paths[lib];\n",
              "        });\n",
              "    }\n",
              "\n",
              "    function showError(err) {\n",
              "      outputDiv.innerHTML = `<div class=\"error\" style=\"color:red;\">${err}</div>`;\n",
              "      throw err;\n",
              "    }\n",
              "\n",
              "    function displayChart(vegaEmbed) {\n",
              "      vegaEmbed(outputDiv, spec, embedOpt)\n",
              "        .catch(err => showError(`Javascript Error: ${err.message}<br>This usually means there's a typo in your chart specification. See the javascript console for the full traceback.`));\n",
              "    }\n",
              "\n",
              "    if(typeof define === \"function\" && define.amd) {\n",
              "      requirejs.config({paths});\n",
              "      require([\"vega-embed\"], displayChart, err => showError(`Error loading script: ${err.message}`));\n",
              "    } else {\n",
              "      maybeLoadScript(\"vega\", \"5\")\n",
              "        .then(() => maybeLoadScript(\"vega-lite\", \"4.17.0\"))\n",
              "        .then(() => maybeLoadScript(\"vega-embed\", \"6\"))\n",
              "        .catch(showError)\n",
              "        .then(() => displayChart(vegaEmbed));\n",
              "    }\n",
              "  })({\"config\": {\"view\": {\"continuousWidth\": 400, \"continuousHeight\": 300}}, \"layer\": [{\"mark\": \"bar\", \"encoding\": {\"color\": {\"field\": \"value\", \"legend\": null, \"scale\": {\"scheme\": \"blues\"}, \"type\": \"quantitative\"}, \"x\": {\"field\": \"category\", \"sort\": \"-y\", \"title\": \"Category\", \"type\": \"nominal\"}, \"y\": {\"axis\": {\"titleColor\": \"#1f77b4\"}, \"field\": \"value\", \"title\": \"Frequency\", \"type\": \"quantitative\"}}, \"height\": 400, \"title\": \"Product Sales Distribution\", \"width\": 600}, {\"mark\": {\"type\": \"line\", \"color\": \"red\", \"strokeWidth\": 2}, \"encoding\": {\"x\": {\"field\": \"category\", \"sort\": \"-y\", \"title\": \"Category\", \"type\": \"nominal\"}, \"y\": {\"axis\": {\"format\": \"%\", \"orient\": \"right\", \"titleColor\": \"red\"}, \"field\": \"cumulative_percentage\", \"title\": \"Cumulative Percentage\", \"type\": \"quantitative\"}}, \"height\": 400, \"title\": \"Product Sales Distribution\", \"width\": 600}, {\"mark\": {\"type\": \"circle\", \"color\": \"red\", \"size\": 50}, \"encoding\": {\"x\": {\"field\": \"category\", \"sort\": \"-y\", \"title\": \"Category\", \"type\": \"nominal\"}, \"y\": {\"field\": \"cumulative_percentage\", \"type\": \"quantitative\"}}, \"height\": 400, \"title\": \"Product Sales Distribution\", \"width\": 600}], \"data\": {\"name\": \"data-a8be5f5358b7731183f64e2ff5639bb8\"}, \"resolve\": {\"scale\": {\"y\": \"independent\"}}, \"$schema\": \"https://vega.github.io/schema/vega-lite/v4.17.0.json\", \"datasets\": {\"data-a8be5f5358b7731183f64e2ff5639bb8\": [{\"category\": \"Product A\", \"value\": 850, \"cumulative_percentage\": 43.58974358974359}, {\"category\": \"Product B\", \"value\": 480, \"cumulative_percentage\": 68.2051282051282}, {\"category\": \"Product C\", \"value\": 320, \"cumulative_percentage\": 84.61538461538461}, {\"category\": \"Product D\", \"value\": 180, \"cumulative_percentage\": 93.84615384615384}, {\"category\": \"Product E\", \"value\": 120, \"cumulative_percentage\": 100.0}]}}, {\"mode\": \"vega-lite\"});\n",
              "</script>"
            ],
            "text/plain": [
              "alt.LayerChart(...)"
            ]
          },
          "metadata": {},
          "execution_count": 3
        }
      ],
      "source": [
        "def create_pareto_chart(\n",
        "    categories: List[str],\n",
        "    values: List[float],\n",
        "    title: str = \"Pareto Chart\",\n",
        "    color_scheme: str = \"blues\"\n",
        ") -> alt.Chart:\n",
        "    \"\"\"\n",
        "    Creates a Pareto chart using Altair with frequency on the left axis and\n",
        "    cumulative percentage on the right axis.\n",
        "\n",
        "    Args:\n",
        "        categories (List[str]): List of category names\n",
        "        values (List[float]): List of corresponding values for each category\n",
        "        title (str, optional): Title of the chart. Defaults to \"Pareto Chart\"\n",
        "        color_scheme (str, optional): Color scheme for the bars. Defaults to \"blues\"\n",
        "\n",
        "    Returns:\n",
        "        alt.Chart: An Altair chart object containing the Pareto visualization\n",
        "\n",
        "    Example:\n",
        "        >>> categories = ['A', 'B', 'C', 'D']\n",
        "        >>> values = [100, 40, 20, 10]\n",
        "        >>> chart = create_pareto_chart(categories, values, \"Product Defects\")\n",
        "    \"\"\"\n",
        "    # Create DataFrame with the data\n",
        "    df = pd.DataFrame({\n",
        "        'category': categories,\n",
        "        'value': values\n",
        "    })\n",
        "\n",
        "    # Sort by value in descending order\n",
        "    df = df.sort_values('value', ascending=False)\n",
        "\n",
        "    # Calculate cumulative percentage\n",
        "    total = df['value'].sum()\n",
        "    df['cumulative_percentage'] = 100 * df['value'].cumsum() / total\n",
        "\n",
        "    # Base chart properties\n",
        "    base = alt.Chart(df).encode(\n",
        "        x=alt.X('category:N', sort='-y', title='Category')\n",
        "    ).properties(\n",
        "        width=600,\n",
        "        height=400,\n",
        "        title=title\n",
        "    )\n",
        "\n",
        "    # Create the bar chart with left y-axis\n",
        "    bars = base.mark_bar().encode(\n",
        "        y=alt.Y('value:Q',\n",
        "                title='Frequency',\n",
        "                axis=alt.Axis(titleColor='#1f77b4')),\n",
        "        color=alt.Color('value:Q',\n",
        "                       scale=alt.Scale(scheme=color_scheme),\n",
        "                       legend=None)\n",
        "    )\n",
        "\n",
        "    # Create the line chart with right y-axis\n",
        "    line = base.mark_line(color='red', strokeWidth=2).encode(\n",
        "        y=alt.Y('cumulative_percentage:Q',\n",
        "                title='Cumulative Percentage',\n",
        "                axis=alt.Axis(titleColor='red', format='%', orient='right'))\n",
        "    )\n",
        "\n",
        "    # Add points to the line\n",
        "    points = base.mark_circle(color='red', size=50).encode(\n",
        "        y=alt.Y('cumulative_percentage:Q')\n",
        "    )\n",
        "\n",
        "    # Layer the visualizations\n",
        "    return alt.layer(bars, line, points).resolve_scale(\n",
        "        y='independent'  # This creates the dual-axis effect\n",
        "    )\n",
        "\n",
        "# Create example data\n",
        "categories = ['Product A', 'Product B', 'Product C', 'Product D', 'Product E']\n",
        "values = [850, 480, 320, 180, 120]\n",
        "\n",
        "# Create the chart\n",
        "chart = create_pareto_chart(\n",
        "    categories=categories,\n",
        "    values=values,\n",
        "    title=\"Product Sales Distribution\"\n",
        ")\n",
        "\n",
        "# Display the chart\n",
        "chart"
      ]
    },
    {
      "cell_type": "code",
      "source": [],
      "metadata": {
        "id": "9ec8vPp9DVsZ"
      },
      "execution_count": null,
      "outputs": []
    }
  ]
}