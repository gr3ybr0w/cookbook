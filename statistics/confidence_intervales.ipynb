{
  "nbformat": 4,
  "nbformat_minor": 0,
  "metadata": {
    "colab": {
      "provenance": [],
      "authorship_tag": "ABX9TyN0bOanxi0ZQB532xZ5dHZd",
      "include_colab_link": true
    },
    "kernelspec": {
      "name": "python3",
      "display_name": "Python 3"
    },
    "language_info": {
      "name": "python"
    }
  },
  "cells": [
    {
      "cell_type": "markdown",
      "metadata": {
        "id": "view-in-github",
        "colab_type": "text"
      },
      "source": [
        "<a href=\"https://colab.research.google.com/github/gr3ybr0w/cookbook/blob/master/statistics/confidence_intervales.ipynb\" target=\"_parent\"><img src=\"https://colab.research.google.com/assets/colab-badge.svg\" alt=\"Open In Colab\"/></a>"
      ]
    },
    {
      "cell_type": "code",
      "execution_count": 1,
      "metadata": {
        "id": "spZ3Oc8NQOph"
      },
      "outputs": [],
      "source": [
        "from typing import Union, Tuple, List, Sequence\n",
        "import numpy as np\n",
        "from scipy import stats"
      ]
    },
    {
      "cell_type": "code",
      "source": [
        "def calculate_confidence_interval(\n",
        "    data: Union[List[float], np.ndarray, Sequence[float]],\n",
        "    confidence_level: float = 0.95\n",
        ") -> Tuple[float, Tuple[float, float]]:\n",
        "    \"\"\"\n",
        "    Calculate the confidence interval for a sample of data.\n",
        "\n",
        "    Parameters:\n",
        "    data (Union[List[float], np.ndarray, Sequence[float]]): Sample data\n",
        "    confidence_level (float): Confidence level (default: 0.95 for 95% confidence)\n",
        "\n",
        "    Returns:\n",
        "    Tuple[float, Tuple[float, float]]: A tuple containing:\n",
        "        - sample mean (float)\n",
        "        - confidence interval bounds (tuple of two floats: lower, upper)\n",
        "\n",
        "    Raises:\n",
        "    ValueError: If confidence_level is not between 0 and 1\n",
        "    ValueError: If data is empty\n",
        "    \"\"\"\n",
        "    if not 0 < confidence_level < 1:\n",
        "        raise ValueError(\"Confidence level must be between 0 and 1\")\n",
        "\n",
        "    data = np.array(data)\n",
        "    if len(data) == 0:\n",
        "        raise ValueError(\"Data array cannot be empty\")\n",
        "\n",
        "    sample_mean = np.mean(data)\n",
        "    sample_size = len(data)\n",
        "    sample_std = np.std(data, ddof=1)  # ddof=1 for sample standard deviation\n",
        "\n",
        "    # Calculate standard error\n",
        "    standard_error = sample_std / np.sqrt(sample_size)\n",
        "\n",
        "    # Find t-critical value\n",
        "    # The t-critical value is used instead of the z-score (normal distribution) when working\n",
        "    # with small sample sizes (typically n < 30). It accounts for the additional uncertainty\n",
        "    # in estimating population parameters from small samples. As sample size increases,\n",
        "    # the t-distribution approaches the normal distribution. The t-critical value is larger\n",
        "    # than the corresponding z-score, resulting in wider (more conservative) confidence intervals.\n",
        "    degrees_freedom = sample_size - 1\n",
        "    t_critical = stats.t.ppf((1 + confidence_level) / 2, degrees_freedom)\n",
        "\n",
        "    # Calculate margin of error\n",
        "    margin_of_error = t_critical * standard_error\n",
        "\n",
        "    # Calculate confidence interval\n",
        "    lower_bound = sample_mean - margin_of_error\n",
        "    upper_bound = sample_mean + margin_of_error\n",
        "\n",
        "    return sample_mean, (lower_bound, upper_bound)\n",
        "\n",
        "# Example usage\n",
        "if __name__ == \"__main__\":\n",
        "    # Sample data\n",
        "    sample_data: List[float] = [23, 25, 21, 22, 20, 24, 23, 21, 22, 24]\n",
        "\n",
        "    # Calculate 95% confidence interval\n",
        "    mean, (ci_lower, ci_upper) = calculate_confidence_interval(sample_data)\n",
        "\n",
        "    print(f\"Sample Mean: {mean:.2f}\")\n",
        "    print(f\"95% Confidence Interval: ({ci_lower:.2f}, {ci_upper:.2f})\")\n",
        "\n",
        "    # Calculate 99% confidence interval\n",
        "    mean, (ci_lower, ci_upper) = calculate_confidence_interval(sample_data, confidence_level=0.99)\n",
        "    print(f\"99% Confidence Interval: ({ci_lower:.2f}, {ci_upper:.2f})\")"
      ],
      "metadata": {
        "colab": {
          "base_uri": "https://localhost:8080/"
        },
        "id": "sdBHSWrnQfYt",
        "outputId": "b6659a6e-a8d8-4ea5-f773-b8b238beb2f3"
      },
      "execution_count": 2,
      "outputs": [
        {
          "output_type": "stream",
          "name": "stdout",
          "text": [
            "Sample Mean: 22.50\n",
            "95% Confidence Interval: (21.37, 23.63)\n",
            "99% Confidence Interval: (20.88, 24.12)\n"
          ]
        }
      ]
    },
    {
      "cell_type": "code",
      "source": [],
      "metadata": {
        "id": "icd-NAOGQf9j"
      },
      "execution_count": null,
      "outputs": []
    }
  ]
}